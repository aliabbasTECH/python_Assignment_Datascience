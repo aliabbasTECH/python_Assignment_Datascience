{
 "cells": [
  {
   "cell_type": "markdown",
   "id": "42052772",
   "metadata": {},
   "source": [
    "###### Write a Python program to print the following string in a specific format (see the output).\n",
    "\n",
    "Twinkle, twinkle, little star,\n",
    "       How I wonder what you are!\n",
    "                Up above the world so high,\n",
    "                Like a diamond in the sky.\n",
    "\n",
    "Twinkle, twinkle, little star,\n",
    "       How I wonder what you are\n"
   ]
  },
  {
   "cell_type": "code",
   "execution_count": 4,
   "id": "74cbc6a9",
   "metadata": {},
   "outputs": [
    {
     "name": "stdout",
     "output_type": "stream",
     "text": [
      "Twinkle, twinkle, little star,\n",
      "\tHow I wonder what you are!\n",
      "\t\tUp above the world so high,\n",
      "\t\tLike a diamond in the sky.\n",
      "Twinkle, twinkle, little star,\n",
      "\tHow I wonder what you are!\n"
     ]
    }
   ],
   "source": [
    "print(\"Twinkle, twinkle, little star,\" \"\\n\"+ \"\\t\"+ \n",
    "      \"How I wonder what you are!\" \"\\n\"+\"\\t\"+\"\\t\"+ \n",
    "      \"Up above the world so high,\" \"\\n\"+\"\\t\"+\"\\t\"+ \n",
    "      \"Like a diamond in the sky.\"  \"\\n\"+\n",
    "      \"Twinkle, twinkle, little star,\" \"\\n\"+\"\\t\"+ \n",
    "      \"How I wonder what you are!\")"
   ]
  },
  {
   "cell_type": "markdown",
   "id": "bf41080f",
   "metadata": {},
   "source": [
    "###### 2 Write a Python program to get the Python version you are using"
   ]
  },
  {
   "cell_type": "code",
   "execution_count": 2,
   "id": "5c3cc90d",
   "metadata": {},
   "outputs": [
    {
     "name": "stdout",
     "output_type": "stream",
     "text": [
      "Python version\n",
      "3.8.8 (default, Apr 13 2021, 15:08:03) [MSC v.1916 64 bit (AMD64)]\n"
     ]
    }
   ],
   "source": [
    "import sys\n",
    "print(\"Python version\")\n",
    "print (sys.version)"
   ]
  },
  {
   "cell_type": "markdown",
   "id": "a02695d6",
   "metadata": {},
   "source": [
    "###### 3 Write a Python program to display the current date and time."
   ]
  },
  {
   "cell_type": "code",
   "execution_count": 3,
   "id": "1b8217c0",
   "metadata": {},
   "outputs": [
    {
     "name": "stdout",
     "output_type": "stream",
     "text": [
      "Current date and time :\n",
      "2021-10-24 16:01:11\n"
     ]
    }
   ],
   "source": [
    "import datetime\n",
    "now = datetime.datetime.now()\n",
    "print (\"Current date and time :\")\n",
    "print (now.strftime(\"%Y-%m-%d %H:%M:%S\"))"
   ]
  },
  {
   "cell_type": "markdown",
   "id": "7a9a243d",
   "metadata": {},
   "source": [
    "###### 4  Write a Python program which accepts the radius of a circle from the user and computethe area."
   ]
  },
  {
   "cell_type": "code",
   "execution_count": 3,
   "id": "d34478b2",
   "metadata": {},
   "outputs": [
    {
     "name": "stdout",
     "output_type": "stream",
     "text": [
      "Enter radius:10\n",
      "314.0\n"
     ]
    }
   ],
   "source": [
    "radius = float(input(\"Enter radius:\"))\n",
    "pi = 3.14\n",
    "Area = pi * radius **2\n",
    "print(Area)"
   ]
  },
  {
   "cell_type": "markdown",
   "id": "e39c4612",
   "metadata": {},
   "source": [
    "###### 5Write a Python program which accepts the user's first and last name and print them in reverse order with a space between them."
   ]
  },
  {
   "cell_type": "code",
   "execution_count": 10,
   "id": "3853bd2c",
   "metadata": {},
   "outputs": [
    {
     "name": "stdout",
     "output_type": "stream",
     "text": [
      "What is your first name?:ali\n",
      "What is your last namet?abbas\n",
      "ila sabba\n"
     ]
    }
   ],
   "source": [
    "fname = input(\"What is your first name?:\")\n",
    "lname = input(\"What is your last namet?\")\n",
    "print(fname[::-1] + \" \" + lname[::-1])"
   ]
  },
  {
   "cell_type": "markdown",
   "id": "fc683d35",
   "metadata": {},
   "source": [
    "###### 6 Write a python program which takes two inputs from user and print them addition"
   ]
  },
  {
   "cell_type": "code",
   "execution_count": null,
   "id": "c9f8fa1f",
   "metadata": {},
   "outputs": [],
   "source": [
    "a = int(input(\"enter first number: \"))\n",
    "b = int(input(\"enter second number: \"))\n",
    "sum = a + b.\n",
    "print(\"sum:\", sum)"
   ]
  },
  {
   "cell_type": "markdown",
   "id": "bff43032",
   "metadata": {},
   "source": [
    "###### 7 Write a program which takes 5 inputs from user for different subject’s marks, total it and generate mark sheet using grades ?"
   ]
  },
  {
   "cell_type": "code",
   "execution_count": 9,
   "id": "c7d4af71",
   "metadata": {},
   "outputs": [
    {
     "name": "stdout",
     "output_type": "stream",
     "text": [
      "enter marks of the first subject: 100\n",
      "enter marks of the second subject: 100\n",
      "enter marks of the third subject: 100\n",
      "enter marks of the fourth subject: 99\n",
      "enter marks of the fifth subject: 89\n",
      "97.6\n",
      "Grade: A+\n"
     ]
    }
   ],
   "source": [
    "sub1=int(input(\"enter marks of the first subject: \"))\n",
    "sub2=int(input(\"enter marks of the second subject: \"))\n",
    "sub3=int(input(\"enter marks of the third subject: \"))\n",
    "sub4=int(input(\"enter marks of the fourth subject: \"))\n",
    "sub5=int(input(\"enter marks of the fifth subject: \"))\n",
    "per=(sub1+sub2+sub3+sub4+sub5)/500*100\n",
    "print (per)\n",
    "if(per>=90 and per<=100):\n",
    "    print(\"Grade: A+\")\n",
    "elif(per>=85):\n",
    "    print(\"Grade: A\")\n",
    "elif(per>=80):\n",
    "    print(\"Grade: B+\")\n",
    "elif(per>=75):\n",
    "    print(\"Grade: B\")\n",
    "elif(per>=70):\n",
    "    print(\"Grade: C+\")\n",
    "elif(per>=65):\n",
    "    print(\"Grade: c\")\n",
    "elif(per>=60):\n",
    "    print(\"Grade: D\")\n",
    "else:\n",
    "    print(\"Grade: F\")"
   ]
  },
  {
   "cell_type": "markdown",
   "id": "61110d57",
   "metadata": {},
   "source": [
    "###### 8  Write a program which take input from user and identify that the given number is evenor odd?"
   ]
  },
  {
   "cell_type": "code",
   "execution_count": 1,
   "id": "b77b57c6",
   "metadata": {},
   "outputs": [
    {
     "name": "stdout",
     "output_type": "stream",
     "text": [
      "enter number9\n",
      "this is odd number\n"
     ]
    }
   ],
   "source": [
    "num=int(input(\"enter number\"))\n",
    "\n",
    "if num%2==0:\n",
    "    print(\" this is even number\")\n",
    "else:\n",
    "    print(\"this is odd number\")"
   ]
  },
  {
   "cell_type": "markdown",
   "id": "d8dad751",
   "metadata": {},
   "source": [
    "###### Write a program which print the length of the list?"
   ]
  },
  {
   "cell_type": "code",
   "execution_count": 1,
   "id": "eaa3bff8",
   "metadata": {},
   "outputs": [
    {
     "name": "stdout",
     "output_type": "stream",
     "text": [
      "The length of list is:  5\n"
     ]
    }
   ],
   "source": [
    "n = len([10, 20, 30, 40, 50]) \n",
    "print(\"The length of list is: \", n)"
   ]
  },
  {
   "cell_type": "markdown",
   "id": "edd57016",
   "metadata": {},
   "source": [
    "######  10.Write a Python program to sum all the numeric items in a list?"
   ]
  },
  {
   "cell_type": "code",
   "execution_count": 2,
   "id": "5f5d3684",
   "metadata": {},
   "outputs": [
    {
     "name": "stdout",
     "output_type": "stream",
     "text": [
      "Sum of all elements in given list:  80\n"
     ]
    }
   ],
   "source": [
    "list1 = [50, 10, 2, 8, 10] \n",
    "total = sum(list1) \n",
    "print(\"Sum of all elements in given list: \", total)"
   ]
  },
  {
   "cell_type": "markdown",
   "id": "bd3407cf",
   "metadata": {},
   "source": [
    "###### 11.Write a Python program to get the largest number from a numeric list."
   ]
  },
  {
   "cell_type": "code",
   "execution_count": 4,
   "id": "2b6361c9",
   "metadata": {},
   "outputs": [
    {
     "name": "stdout",
     "output_type": "stream",
     "text": [
      "Largest element is: 99\n"
     ]
    }
   ],
   "source": [
    "list1 = [10, 20, 4, 45, 99] \n",
    "print(\"Largest element is:\", max(list1))"
   ]
  },
  {
   "cell_type": "markdown",
   "id": "f89c1328",
   "metadata": {},
   "source": [
    "###### 12. Take a list, say for example this one:\n",
    "a = [1, 1, 2, 3, 5, 8, 13, 21, 34, 55, 89]\n",
    "Write a program that prints out all the elements of the list that are less than 5."
   ]
  },
  {
   "cell_type": "code",
   "execution_count": null,
   "id": "fd9722e4",
   "metadata": {},
   "outputs": [],
   "source": [
    "a = [1,1,2,3,4,5,8,13,21,34,55,89]\n",
    "new_lst = []\n",
    "for item in a:\n",
    "    if item < 5:\n",
    "        new_lst.append(item)\n",
    "print(new_lst)"
   ]
  }
 ],
 "metadata": {
  "kernelspec": {
   "display_name": "Python 3",
   "language": "python",
   "name": "python3"
  },
  "language_info": {
   "codemirror_mode": {
    "name": "ipython",
    "version": 3
   },
   "file_extension": ".py",
   "mimetype": "text/x-python",
   "name": "python",
   "nbconvert_exporter": "python",
   "pygments_lexer": "ipython3",
   "version": "3.8.8"
  }
 },
 "nbformat": 4,
 "nbformat_minor": 5
}
