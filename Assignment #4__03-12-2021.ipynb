{
 "cells": [
  {
   "cell_type": "markdown",
   "id": "c1fcf591",
   "metadata": {},
   "source": [
    "### Q1:Make a calculator using Python with addition , subtraction ,multiplication ,division and power."
   ]
  },
  {
   "cell_type": "code",
   "execution_count": 2,
   "id": "46357fd4",
   "metadata": {},
   "outputs": [
    {
     "name": "stdout",
     "output_type": "stream",
     "text": [
      "Select operation.\n",
      "1.Add\n",
      "2.Subtract\n",
      "3.Multiply\n",
      "4.Divide\n",
      "5.power\n",
      "6.mod\n",
      "Enter choice(1/2/3/4/5/6): 5\n",
      "Enter first number: 6\n",
      "Enter second number: 6\n",
      "6.0 pow 6.0 = 46656.0\n",
      "calculation again? (yes/no): n\n"
     ]
    }
   ],
   "source": [
    "#ans01 (a) using functions \n",
    "\n",
    "def add(x,y):\n",
    "    return x+y\n",
    "def sub(x,y):\n",
    "    return x-y\n",
    "def mul(x,y):\n",
    "    return x*y\n",
    "def div(x,y):\n",
    "    return x/y\n",
    "def power(x,y):\n",
    "    return x**y\n",
    "def mods(x,y):\n",
    "    return x%y\n",
    "\n",
    "\n",
    "print(\"Select operation.\")\n",
    "print(\"1.Add\")\n",
    "print(\"2.Subtract\")\n",
    "print(\"3.Multiply\")\n",
    "print(\"4.Divide\")\n",
    "print(\"5.power\")\n",
    "print(\"6.mod\")\n",
    "\n",
    "while True:\n",
    "   \n",
    "    choice = input(\"Enter choice(1/2/3/4/5/6): \")\n",
    "\n",
    "    \n",
    "    if choice in ('1', '2', '3', '4','5' ,'6'):\n",
    "        num1 = float(input(\"Enter first number: \"))\n",
    "        num2 = float(input(\"Enter second number: \"))\n",
    "\n",
    "        if choice == '1':\n",
    "            print(num1, \"+\", num2, \"=\", add(num1, num2))\n",
    "\n",
    "        elif choice == '2':\n",
    "            print(num1, \"-\", num2, \"=\", sub(num1, num2))\n",
    "\n",
    "        elif choice == '3':\n",
    "            print(num1, \"x\", num2, \"=\", mul(num1, num2))\n",
    "\n",
    "        elif choice == '4':\n",
    "            print(num1, \"/\", num2, \"=\", div(num1, num2))\n",
    "            \n",
    "        elif choice == '5':\n",
    "            print(num1, \"pow\", num2, \"=\", power(num1, num2))\n",
    "                                             \n",
    "        elif choice == '6':\n",
    "            print(num1, \"mod\", num2, \"=\", mods(num1, num2))\n",
    "            \n",
    "        next_calculation = input(\"calculation again? (yes/no): \")\n",
    "        if next_calculation == \"no\" or \"n\":\n",
    "          break\n",
    "    \n",
    "    else:\n",
    "        print(\"Invalid Input\")\n"
   ]
  },
  {
   "cell_type": "code",
   "execution_count": 5,
   "id": "e5425b59",
   "metadata": {},
   "outputs": [
    {
     "name": "stdout",
     "output_type": "stream",
     "text": [
      "enter first value5\n",
      "enter second value 2\n",
      "enter operator-\n",
      "5 - 2 = 3\n"
     ]
    }
   ],
   "source": [
    "#ans01 (b) using basic if/elif/else\n",
    "\n",
    "val1 = int(input('enter first value'))\n",
    "operator= (input('enter operator /,*,-,+,**')) \n",
    "val2 = int(input('enter second value '))\n",
    "\n",
    "\n",
    "if operator == '+':\n",
    "    val = val1 + val2\n",
    "    print(val1,\"+\",val2,\"=\",val)\n",
    "elif operator == '-' :\n",
    "    val = val1 - val2\n",
    "    print(val1,\"-\",val2,\"=\",val)\n",
    "elif operator == '*' :\n",
    "    val = val1 * val2\n",
    "    print(val1,\"x\",val2,\"=\",val)\n",
    "elif operator == '/' :\n",
    "    val = val1 / val2\n",
    "    print(val1,\"/\",val2,\"=\",val)\n",
    "elif operator == '**' :\n",
    "    val = val1 ** val2\n",
    "    print(val1,\"pow\",val2,\"=\",val)\n",
    "else:\n",
    "    print('enter correct operator')"
   ]
  },
  {
   "cell_type": "markdown",
   "id": "8bb241bf",
   "metadata": {},
   "source": [
    "### Q2,Write a program to check if there is any numeric value in list using for loop.\n"
   ]
  },
  {
   "cell_type": "code",
   "execution_count": 6,
   "id": "c7cda78e",
   "metadata": {},
   "outputs": [
    {
     "name": "stdout",
     "output_type": "stream",
     "text": [
      "numaric values are : 4\n",
      "numaric values are : 6\n"
     ]
    }
   ],
   "source": [
    "test_list = [ \"a\",\"b\",\"c\", \"d\", \"e\",4,6,\"a\" ]\n",
    "\n",
    "for i in test_list: \n",
    "    if(type(i) == int) : \n",
    "        print (\"numaric values are :\",i)"
   ]
  },
  {
   "cell_type": "markdown",
   "id": "131c3ebb",
   "metadata": {},
   "source": [
    "### Q3 Write a Python script to add a key to a dictionary."
   ]
  },
  {
   "cell_type": "code",
   "execution_count": 15,
   "id": "7ba150a0",
   "metadata": {},
   "outputs": [
    {
     "name": "stdout",
     "output_type": "stream",
     "text": [
      "Enter the key (int) to be added:ali\n",
      "Enter the value for the key to be added:500\n",
      "Updated dictionary is:\n",
      "{'ali': '500'}\n"
     ]
    }
   ],
   "source": [
    "k=input(\"Enter the key (int) to be added:\")\n",
    "v=input(\"Enter the value for the key to be added:\")\n",
    "dict={}\n",
    "dict.update({k:v})\n",
    "print(\"Updated dictionary is:\")\n",
    "print(dict)"
   ]
  },
  {
   "cell_type": "markdown",
   "id": "099dbbc7",
   "metadata": {},
   "source": [
    "### Q4Write a Python program to sum all the numeric items in a dictionary."
   ]
  },
  {
   "cell_type": "code",
   "execution_count": 22,
   "id": "4fc0265b",
   "metadata": {},
   "outputs": [
    {
     "name": "stdout",
     "output_type": "stream",
     "text": [
      "sum of all values: 401\n"
     ]
    }
   ],
   "source": [
    "dict = {'val0':100,'val1':54,'val2':247}\n",
    "\n",
    "print(\"sum of all values:\",sum(dict.values()))\n"
   ]
  },
  {
   "cell_type": "markdown",
   "id": "eb5e0f61",
   "metadata": {},
   "source": [
    "### Q5 Write a program to identify duplicate values from list."
   ]
  },
  {
   "cell_type": "code",
   "execution_count": 27,
   "id": "c84d9570",
   "metadata": {},
   "outputs": [
    {
     "name": "stdout",
     "output_type": "stream",
     "text": [
      "2 3 4 5 "
     ]
    }
   ],
   "source": [
    "l=[1,2,3,4,5,2,3,4,7,9,5]\n",
    "l1=[]\n",
    "for i in l:\n",
    "    if i not in l1 :\n",
    "        l1.append(i)\n",
    "    else:\n",
    "        print(i,end=' ')"
   ]
  },
  {
   "cell_type": "markdown",
   "id": "f7065a62",
   "metadata": {},
   "source": [
    "### Q6 Write a Python script to check if a given key already exists in a dictionary"
   ]
  },
  {
   "cell_type": "code",
   "execution_count": 29,
   "id": "94da3137",
   "metadata": {},
   "outputs": [
    {
     "name": "stdout",
     "output_type": "stream",
     "text": [
      "The given dictionary :  {'Mon': 3, 'Tue': 5, 'Wed': 6, 'Thu': 9}\n",
      "Fri  is not exists.\n"
     ]
    }
   ],
   "source": [
    "dict = {'Mon':3,'Tue':5,'Wed':6,'Thu':9}\n",
    "print(\"The given dictionary : \",dict)\n",
    "check_key = \"Fri\"\n",
    "if check_key in dict:\n",
    "   print(check_key,\"is exists.\")\n",
    "else:\n",
    "   print(check_key, \" is not exists.\")"
   ]
  },
  {
   "cell_type": "code",
   "execution_count": null,
   "id": "4c85f247",
   "metadata": {},
   "outputs": [],
   "source": []
  }
 ],
 "metadata": {
  "kernelspec": {
   "display_name": "Python 3",
   "language": "python",
   "name": "python3"
  },
  "language_info": {
   "codemirror_mode": {
    "name": "ipython",
    "version": 3
   },
   "file_extension": ".py",
   "mimetype": "text/x-python",
   "name": "python",
   "nbconvert_exporter": "python",
   "pygments_lexer": "ipython3",
   "version": "3.8.8"
  }
 },
 "nbformat": 4,
 "nbformat_minor": 5
}
